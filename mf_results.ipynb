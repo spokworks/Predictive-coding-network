{
 "cells": [
  {
   "cell_type": "markdown",
   "metadata": {},
   "source": [
    "# Computing main simulation results"
   ]
  },
  {
   "cell_type": "code",
   "execution_count": 124,
   "metadata": {
    "scrolled": true,
    "tags": []
   },
   "outputs": [],
   "source": [
    "%load_ext autoreload\n",
    "%autoreload 2\n",
    "import os\n",
    "import sys\n",
    "\n",
    "import time \n",
    "import matplotlib.pyplot as plt\n",
    "import seaborn as sns\n",
    "import pickle\n",
    "\n",
    "from datetime import date\n",
    "from copy import deepcopy\n",
    "\n",
    "from predCoding import *\n",
    "\n",
    "# for updating after changes in imported files\n",
    "from utils import *\n",
    "from plot_utils import *\n",
    "\n",
    "plt.rcParams['figure.figsize'] = [full_width,2/3* full_width]\n",
    "plt.rcParams['figure.dpi'] = 100\n"
   ]
  },
  {
   "cell_type": "code",
   "execution_count": 48,
   "metadata": {},
   "outputs": [],
   "source": [
    "default_params = {'nNeur' :   100, \n",
    "                  'ratePosWeights' : 0.5,\n",
    "                  'lambd' :    0.05, # time constant 1/lambda should be around 20ms\n",
    "                  'sigma_V' :  1,\n",
    "                  'linCost' :  1,\n",
    "                  'quadCost' : 1,\n",
    "                  'connStrength' : 5,\n",
    "                 'tau': 5}\n",
    "\n",
    "default_input = input_cst\n",
    "\n",
    "default_spikeMod = {**default_params,\n",
    "                    'input_fct': default_input, \n",
    "                    'T': 200, \n",
    "                    't_step': 0.01}\n",
    "\n",
    "# to modify parameters easily \n",
    "\n",
    "def setPar(d=None,**kwargs):\n",
    "    if d  is None:                                \n",
    "        d=dict(**default_spikeMod)\n",
    "    for key, arg in kwargs.items():\n",
    "        d[key]=arg\n",
    "    return d"
   ]
  },
  {
   "cell_type": "code",
   "execution_count": 79,
   "metadata": {},
   "outputs": [],
   "source": [
    "spikeM=spikeMod_sim(**setPar())"
   ]
  },
  {
   "cell_type": "markdown",
   "metadata": {},
   "source": [
    "#### Firing rates vs. $\\tau_h$"
   ]
  },
  {
   "cell_type": "markdown",
   "metadata": {},
   "source": [
    "__Note__: Synchronisation can arise due to numerical issues. To avoid this problem, simulations where synchronisation occurs are discarded from the computations. A corresponding warning (sims=simulations) is given in these cases."
   ]
  },
  {
   "cell_type": "code",
   "execution_count": 44,
   "metadata": {},
   "outputs": [
    {
     "name": "stderr",
     "output_type": "stream",
     "text": [
      "WARNING:root:Skipped 1 sims due to synchronisation\n"
     ]
    }
   ],
   "source": [
    "fr_plus_lif,fr_minus_lif=avs_over_sims_lif(mean_fir_rates,100,target_dims=2,\n",
    "               **setPar(sigma_V=0.5,T=500))[0]\n",
    "fr_plus_lif_1k,fr_minus_lif_1k=avs_over_sims_lif(mean_fir_rates,30,target_dims=2,\n",
    "               **setPar(sigma_V=0.5,T=500,nNeur=1000))[0]"
   ]
  },
  {
   "cell_type": "code",
   "execution_count": 54,
   "metadata": {},
   "outputs": [
    {
     "name": "stderr",
     "output_type": "stream",
     "text": [
      "6it [16:39, 167.83s/it]WARNING:root:High standard error: SEM is 4% of the mean for tau: 15\n",
      "8it [22:13, 167.25s/it]WARNING:root:High standard error: SEM is 5% of the mean for tau: 20\n",
      "9it [25:01, 166.79s/it]"
     ]
    },
    {
     "name": "stdout",
     "output_type": "stream",
     "text": [
      "CPU times: user 24min 54s, sys: 2.18 s, total: 24min 56s\n",
      "Wall time: 25min 1s\n",
      "CPU times: user 24min 57s, sys: 2.22 s, total: 24min 59s\n",
      "Wall time: 25min 3s\n"
     ]
    },
    {
     "name": "stderr",
     "output_type": "stream",
     "text": [
      "\n"
     ]
    }
   ],
   "source": [
    "%%time\n",
    "tau_vals1=[1,2.5,5,7.5,10,12.5,15,17.5,20]\n",
    "baseM_match= rateMod_sim_fast(**setPar(sigma_V=0.5,T=500))\n",
    "%time fr_plus_r,fr_minus_r=fr_over_tau(tau_vals1,nSims=70,base_model=baseM_match)"
   ]
  },
  {
   "cell_type": "code",
   "execution_count": 52,
   "metadata": {},
   "outputs": [
    {
     "name": "stderr",
     "output_type": "stream",
     "text": [
      "9it [05:52, 39.16s/it]"
     ]
    },
    {
     "name": "stdout",
     "output_type": "stream",
     "text": [
      "CPU times: user 5min 57s, sys: 765 ms, total: 5min 58s\n",
      "Wall time: 5min 58s\n"
     ]
    },
    {
     "name": "stderr",
     "output_type": "stream",
     "text": [
      "\n"
     ]
    }
   ],
   "source": [
    "%%time\n",
    "baseM_match_1k= rateMod_sim_fast(**setPar(sigma_V=0.5,nNeur=1000,T=500))\n",
    "fr_plus_r_1k,fr_minus_r_1k=fr_over_tau(tau_vals1,base_model=baseM_match_1k)"
   ]
  },
  {
   "cell_type": "code",
   "execution_count": 35,
   "metadata": {},
   "outputs": [],
   "source": [
    "dict_res0={'fr_plus_lif':fr_plus_lif,'fr_minus_lif':fr_minus_lif,\n",
    "           'fr_plus_lif_1k':fr_plus_lif_1k,'fr_minus_lif_1k':fr_minus_lif_1k,\n",
    "           'fr_plus_r_1k':fr_plus_r_1k,\n",
    " 'fr_plus_r':fr_plus_r,\n",
    "          'fr_minus_r':fr_minus_r,\n",
    " 'fr_minus_r_1k':fr_minus_r_1k}"
   ]
  },
  {
   "cell_type": "markdown",
   "metadata": {},
   "source": [
    "Uncomment the following to save results via pickle"
   ]
  },
  {
   "cell_type": "code",
   "execution_count": 36,
   "metadata": {},
   "outputs": [],
   "source": [
    "#with open('res_tau_1409', 'wb') as fp:\n",
    "#    pickle.dump(dict_res0, fp)"
   ]
  },
  {
   "cell_type": "code",
   "execution_count": 61,
   "metadata": {},
   "outputs": [
    {
     "data": {
      "text/plain": [
       "Text(0.5, 0, '$\\\\tau_h$ (ms)')"
      ]
     },
     "execution_count": 61,
     "metadata": {},
     "output_type": "execute_result"
    },
    {
     "data": {
      "image/png": "[encoded data removed]",
      "text/plain": [
       "<Figure size 400x300 with 1 Axes>"
      ]
     },
     "metadata": {
      "needs_background": "light"
     },
     "output_type": "display_data"
    }
   ],
   "source": [
    "plt.figure(figsize=[4,3])\n",
    "plt.hlines(fr_plus_lif_1k,tau_vals1[0],tau_vals1[-1],'r','-')\n",
    "plt.plot(tau_vals1,fr_plus_r_1k,'--o',c='darkred',markersize=5,label=r'$w+,\\ N=1000$')\n",
    "plt.plot(tau_vals1,fr_plus_r,'--o',c='violet',markersize=5,    label=r'$w+,\\ N=100$')\n",
    "plt.hlines(fr_minus_lif_1k,tau_vals1[0],tau_vals1[-1],'b','-')\n",
    "plt.plot(tau_vals1,fr_minus_r_1k,'--o',c='navy',markersize=5,  label=r'$w-,\\ N=1000$')\n",
    "plt.plot(tau_vals1,fr_minus_r,'--o',c='skyblue',markersize=5,  label=r'$w-,\\ N=100$')\n",
    "plt.xticks(tau_vals1[::2])\n",
    "plt.legend()\n",
    "plt.ylabel('Firing rate (Hz)')\n",
    "plt.xlabel(r'$\\tau_h$ (ms)') "
   ]
  },
  {
   "cell_type": "markdown",
   "metadata": {},
   "source": [
    "### Comparison of LIF and Poisson models for stationary inputs\n",
    "\n",
    "Note: The CV requires very long simulation times, while the other statistics can be estimated more efficiently by using more simulations over shorter simulation time."
   ]
  },
  {
   "cell_type": "code",
   "execution_count": 63,
   "metadata": {},
   "outputs": [],
   "source": [
    "funcs_list=[mean_fir_rates,cv,mean_est_sim,var_readout_sim]\n",
    "func_dims_list=[2,1,1,1]\n",
    "x_grid=np.arange(0,6,1)\n",
    "tau_vals=[1,5,10]"
   ]
  },
  {
   "cell_type": "code",
   "execution_count": 66,
   "metadata": {},
   "outputs": [],
   "source": [
    "sim1_pars_spec={'sigma_V':0.5, \"T\":1000}\n",
    "sim1_pars=setPar(sigma_V=0.5,T=1000)\n",
    "baseM_sim1=rateMod_sim_fast(sparse=True,manualSim=True,**sim1_pars)"
   ]
  },
  {
   "cell_type": "code",
   "execution_count": 90,
   "metadata": {
    "tags": []
   },
   "outputs": [
    {
     "name": "stderr",
     "output_type": "stream",
     "text": [
      "0it [00:00, ?it/s]WARNING:root:Skipped over 10 sims due to synchronisation. Continuing in asynchr regime ( for x=0)\n",
      "WARNING:root:High standard error: SEM is 174% of the mean for x=0 (mean_est_sim)\n",
      "WARNING:root:High standard error: SEM is 8% of the mean for x=0 (var_readout_sim)\n",
      "1it [05:54, 354.31s/it]WARNING:root:Skipped 3 sims due to synchronisation for x=1\n",
      "2it [11:29, 342.83s/it]WARNING:root:High standard error: SEM is 10% of the mean for x=2 (mean_fir_rates)\n",
      "3it [16:44, 330.51s/it]WARNING:root:High standard error: SEM is 37% of the mean for x=3 (mean_fir_rates)\n",
      "6it [32:33, 325.66s/it]"
     ]
    },
    {
     "name": "stdout",
     "output_type": "stream",
     "text": [
      "CPU times: user 32min 20s, sys: 2.76 s, total: 32min 22s\n",
      "Wall time: 32min 33s\n"
     ]
    },
    {
     "name": "stderr",
     "output_type": "stream",
     "text": [
      "\n"
     ]
    }
   ],
   "source": [
    "%%time\n",
    "lif_sim1=av_fcts_over_1Dgrid_lif(funcs_list,'x',x_grid,nSims=100,\n",
    "                     target_dims=func_dims_list, **sim1_pars)"
   ]
  },
  {
   "cell_type": "code",
   "execution_count": 93,
   "metadata": {
    "tags": []
   },
   "outputs": [
    {
     "name": "stderr",
     "output_type": "stream",
     "text": [
      "0it [00:00, ?it/s]WARNING:root:High standard error: SEM is 171% of the mean for x: 0, tau: 1 (mean_est_sim)\n",
      "WARNING:root:High standard error: SEM is 83% of the mean for x: 0, tau: 5 (mean_est_sim)\n",
      "WARNING:root:High standard error: SEM is 54% of the mean for x: 0, tau: 10 (mean_est_sim)\n",
      "2it [23:57, 718.51s/it]WARNING:root:High standard error: SEM is 5% of the mean for x: 2, tau: 10 (mean_fir_rates)\n",
      "3it [35:54, 717.76s/it]WARNING:root:High standard error: SEM is 9% of the mean for x: 3, tau: 10 (mean_fir_rates)\n",
      "4it [47:50, 717.19s/it]WARNING:root:High standard error: SEM is 6% of the mean for x: 4, tau: 5 (mean_fir_rates)\n",
      "WARNING:root:High standard error: SEM is 15% of the mean for x: 4, tau: 10 (mean_fir_rates)\n",
      "5it [59:49, 717.99s/it]WARNING:root:High standard error: SEM is 7% of the mean for x: 5, tau: 5 (mean_fir_rates)\n",
      "WARNING:root:High standard error: SEM is 25% of the mean for x: 5, tau: 10 (mean_fir_rates)\n",
      "6it [1:11:44, 717.41s/it]"
     ]
    },
    {
     "name": "stdout",
     "output_type": "stream",
     "text": [
      "CPU times: user 1h 11min 27s, sys: 5.8 s, total: 1h 11min 33s\n",
      "Wall time: 1h 11min 44s\n"
     ]
    },
    {
     "name": "stderr",
     "output_type": "stream",
     "text": [
      "\n"
     ]
    }
   ],
   "source": [
    "%%time\n",
    "res_sim1=av_fct_over_2Dgrid_p(funcs_list,'x',x_grid,'tau',tau_vals,nSims=50,\n",
    "                     target_dims=func_dims_list,\n",
    "                     base_model=baseM_sim1)"
   ]
  },
  {
   "cell_type": "markdown",
   "metadata": {},
   "source": [
    "__N=1000__"
   ]
  },
  {
   "cell_type": "code",
   "execution_count": 95,
   "metadata": {},
   "outputs": [],
   "source": [
    "sim1_pars_1k=setPar(sigma_V=0.5,T=1000,nNeur=1000)\n",
    "baseM_sim1_1k=rateMod_sim_fast(sparse=True,manualSim=True,**sim1_pars_1k)"
   ]
  },
  {
   "cell_type": "code",
   "execution_count": 97,
   "metadata": {
    "tags": []
   },
   "outputs": [
    {
     "name": "stderr",
     "output_type": "stream",
     "text": [
      "0it [00:00, ?it/s]WARNING:root:High standard error: SEM is 65% of the mean for x=0 (mean_est_sim)\n",
      "2it [12:47, 383.63s/it]WARNING:root:High standard error: SEM is 5% of the mean for x=2 (mean_fir_rates)\n",
      "3it [19:10, 383.44s/it]WARNING:root:High standard error: SEM is 48% of the mean for x=3 (mean_fir_rates)\n",
      "6it [38:23, 383.95s/it]"
     ]
    },
    {
     "name": "stdout",
     "output_type": "stream",
     "text": [
      "CPU times: user 38min 13s, sys: 4.02 s, total: 38min 17s\n",
      "Wall time: 38min 23s\n"
     ]
    },
    {
     "name": "stderr",
     "output_type": "stream",
     "text": [
      "\n"
     ]
    }
   ],
   "source": [
    "%%time\n",
    "lif_sim1_1k=av_fcts_over_1Dgrid_lif(funcs_list,'x',x_grid,nSims=50,\n",
    "                     target_dims=func_dims_list,**sim1_pars_1k)"
   ]
  },
  {
   "cell_type": "code",
   "execution_count": 103,
   "metadata": {
    "tags": []
   },
   "outputs": [
    {
     "name": "stderr",
     "output_type": "stream",
     "text": [
      "0it [00:00, ?it/s]WARNING:root:High standard error: SEM is 67% of the mean for x: 0, tau: 1 (mean_est_sim)\n",
      "WARNING:root:High standard error: SEM is 126% of the mean for x: 0, tau: 5 (mean_est_sim)\n",
      "WARNING:root:High standard error: SEM is 265% of the mean for x: 0, tau: 10 (mean_est_sim)\n",
      "3it [2:00:36, 2402.89s/it]WARNING:root:High standard error: SEM is 8% of the mean for x: 3, tau: 5 (mean_fir_rates)\n",
      "WARNING:root:High standard error: SEM is 12% of the mean for x: 3, tau: 10 (mean_fir_rates)\n",
      "4it [2:40:34, 2401.12s/it]WARNING:root:High standard error: SEM is 31% of the mean for x: 4, tau: 5 (mean_fir_rates)\n",
      "WARNING:root:High standard error: SEM is 57% of the mean for x: 4, tau: 10 (mean_fir_rates)\n",
      "5it [19:47:53, 23762.53s/it]WARNING:root:High standard error: SEM is 4% of the mean for x: 5, tau: 1 (mean_fir_rates)\n",
      "WARNING:root:High standard error: SEM is 57% of the mean for x: 5, tau: 5 (mean_fir_rates)\n",
      "6it [20:28:30, 12285.12s/it]"
     ]
    },
    {
     "name": "stdout",
     "output_type": "stream",
     "text": [
      "CPU times: user 3h 59min 48s, sys: 34.6 s, total: 4h 23s\n",
      "Wall time: 20h 28min 30s\n"
     ]
    },
    {
     "name": "stderr",
     "output_type": "stream",
     "text": [
      "\n"
     ]
    }
   ],
   "source": [
    "%%time\n",
    "res_sim1_1k=av_fct_over_2Dgrid_p(funcs_list,'x',x_grid,'tau',tau_vals,nSims=100,\n",
    "                     target_dims=func_dims_list,\n",
    "                     base_model=baseM_sim1_1k)"
   ]
  },
  {
   "cell_type": "code",
   "execution_count": 106,
   "metadata": {},
   "outputs": [],
   "source": [
    "fr_sim1,cv_sim1,mean_sim1,var_sim1=res_sim1\n",
    "fr_sim1_1k,cv_sim1_1k,mean_sim1_1k,var_sim1_1k=res_sim1_1k\n",
    "fr_sim1_lif,cv_sim1_lif,mean_sim1_lif,var_sim1_lif=lif_sim1\n",
    "fr_sim1_lif_1k,cv_sim1_lif_1k,mean_sim1_lif_1k,var_sim1_lif_1k=lif_sim1_1k"
   ]
  },
  {
   "cell_type": "code",
   "execution_count": 30,
   "metadata": {},
   "outputs": [],
   "source": [
    "cols_p=plt.get_cmap('hot')"
   ]
  },
  {
   "cell_type": "code",
   "execution_count": 107,
   "metadata": {
    "tags": []
   },
   "outputs": [
    {
     "data": {
      "image/png": "[encoded data removed]",
      "text/plain": [
       "<Figure size 610.236x457.677 with 4 Axes>"
      ]
     },
     "metadata": {
      "needs_background": "light"
     },
     "output_type": "display_data"
    }
   ],
   "source": [
    "plt.rcParams.update({'text.usetex':True})\n",
    "fig, axs =plt.subplots(2,2,sharex=True,figsize=[full_width,3*full_width/4])\n",
    "\n",
    "plot_list_lif=[fr_sim1_lif_1k[:,0], cv_sim1_lif_1k, mean_sim1_lif_1k, var_sim1_lif_1k]\n",
    "plot_list_p=[fr_sim1_1k[:,:,0], cv_sim1_1k, mean_sim1_1k, var_sim1_1k]\n",
    "y_labels=['Firing rate (Hz)', 'CV', 'Readout mean', 'Readout variance']\n",
    "for i, ax in enumerate(axs.reshape(-1)):\n",
    "    lif_line,=ax.plot(x_grid,plot_list_lif[i],'*',c=col_lif,markersize=8,label='LIF')\n",
    "    for j, tau in enumerate(tau_vals[::-1]):\n",
    "        j=len(tau_vals)-j-1\n",
    "        _=ax.plot(x_grid,plot_list_p[i][:,j], 'o',markersize=3+j,c=cols_p(0.15+j/5),label=fr'$\\tau_h={tau_vals[j]}$ ms')\n",
    "    ax.set_ylabel(y_labels[i])\n",
    "\n",
    "for lower_ax in axs[1,:]:\n",
    "    lower_ax.set_xlabel(r'Strength of signal  $x$')\n",
    "    lower_ax.set_xticks(x_grid)\n",
    "axs[1,1].set_ylim(0)    \n",
    "l_mean,=axs[1,0].plot(x_grid,'k--',label='True signal')\n",
    "axs[1,0].legend([l_mean],['True signal'])\n",
    "handles, labels = axs[0,0].get_legend_handles_labels()\n",
    "by_label = dict(zip(labels, handles))\n",
    "axs[0,1].legend(by_label.values(), by_label.keys(),bbox_to_anchor=[0.44,0.64])\n",
    "plt.tight_layout()\n",
    "#plt.savefig(os.path.join(SAVEFIG_PATH,'match_pois_vs_lif'),bbox_inches='tight',dpi=300)   "
   ]
  },
  {
   "cell_type": "markdown",
   "metadata": {},
   "source": [
    "### Recompute CV"
   ]
  },
  {
   "cell_type": "markdown",
   "metadata": {},
   "source": [
    "Simulation over a longer time span is required to obtain a meaningful approximation for the coefficient of variation."
   ]
  },
  {
   "cell_type": "code",
   "execution_count": 125,
   "metadata": {},
   "outputs": [
    {
     "name": "stderr",
     "output_type": "stream",
     "text": [
      "0it [00:00, ?it/s]WARNING:root:Skipped over 10 sims due to synchronisation. Continuing in asynchr regime ( for x=0)\n",
      "WARNING:root:High standard error: SEM is 5% of the mean for x=0\n",
      "1it [08:25, 505.60s/it]WARNING:root:Skipped 1 sims due to synchronisation for x=1\n",
      "6it [22:05, 220.93s/it]\n",
      "6it [38:38, 386.45s/it]\n"
     ]
    }
   ],
   "source": [
    "cv_sim1_lif=av_fcts_over_1Dgrid_lif(cv,'x',x_grid,nSims=5,\n",
    "                     target_dims=1,sigma_V=0.5,T=10000,nNeur=100)\n",
    "cv_sim1_lif_1k=av_fcts_over_1Dgrid_lif(cv,'x',x_grid,nSims=5,\n",
    "                     target_dims=1,sigma_V=0.5,T=10000,nNeur=1000)"
   ]
  },
  {
   "cell_type": "code",
   "execution_count": 132,
   "metadata": {},
   "outputs": [
    {
     "name": "stderr",
     "output_type": "stream",
     "text": [
      "6it [1:12:06, 721.07s/it]\n",
      "6it [28:58:54, 17389.02s/it]\n"
     ]
    }
   ],
   "source": [
    "cv_sim1=av_fct_over_2Dgrid_p(cv,'x',x_grid,'tau',tau_vals,nSims=5,\n",
    "                     target_dims=1, base_model=baseM_sim1,T=10000)\n",
    "cv_sim1_1k=av_fct_over_2Dgrid_p(cv,'x',x_grid,'tau',tau_vals,nSims=5,\n",
    "                     target_dims=1, base_model=baseM_sim1_1k,T=10000)"
   ]
  },
  {
   "cell_type": "markdown",
   "metadata": {},
   "source": [
    "Now the results look better:"
   ]
  },
  {
   "cell_type": "code",
   "execution_count": 137,
   "metadata": {
    "tags": []
   },
   "outputs": [
    {
     "data": {
      "image/png": "[encoded data removed]",
      "text/plain": [
       "<Figure size 610.236x457.677 with 4 Axes>"
      ]
     },
     "metadata": {
      "needs_background": "light"
     },
     "output_type": "display_data"
    }
   ],
   "source": [
    "plt.rcParams.update({'text.usetex':True})\n",
    "fig, axs =plt.subplots(2,2,sharex=True,figsize=[full_width,3*full_width/4])\n",
    "\n",
    "plot_list_lif=[fr_sim1_lif_1k[:,0], cv_sim1_lif_1k, mean_sim1_lif_1k, var_sim1_lif_1k]\n",
    "plot_list_p=[fr_sim1_1k[:,:,0], cv_sim1_1k, mean_sim1_1k, var_sim1_1k]\n",
    "y_labels=['Firing rate (Hz)', 'CV', 'Readout mean', 'Readout variance']\n",
    "for i, ax in enumerate(axs.reshape(-1)):\n",
    "    lif_line,=ax.plot(x_grid,plot_list_lif[i],'*',c=col_lif,markersize=8,label='LIF')\n",
    "    for j, tau in enumerate(tau_vals[::-1]):\n",
    "        j=len(tau_vals)-j-1\n",
    "        _=ax.plot(x_grid,plot_list_p[i][:,j], 'o',markersize=3+j,c=cols_p(0.15+j/5),label=fr'$\\tau_h={tau_vals[j]}$ ms')\n",
    "    ax.set_ylabel(y_labels[i])\n",
    "\n",
    "for lower_ax in axs[1,:]:\n",
    "    lower_ax.set_xlabel(r'Strength of signal  $x$')\n",
    "    lower_ax.set_xticks(x_grid)\n",
    "axs[1,1].set_ylim(0)    \n",
    "l_mean,=axs[1,0].plot(x_grid,'k--',label='True signal')\n",
    "axs[1,0].legend([l_mean],['True signal'])\n",
    "handles, labels = axs[0,0].get_legend_handles_labels()\n",
    "by_label = dict(zip(labels, handles))\n",
    "axs[0,1].legend(by_label.values(), by_label.keys(),bbox_to_anchor=[0.44,0.64])\n",
    "plt.tight_layout()\n",
    "#plt.savefig(os.path.join(SAVEFIG_PATH,'match_pois_vs_lif'),bbox_inches='tight',dpi=300)   "
   ]
  },
  {
   "cell_type": "markdown",
   "metadata": {},
   "source": [
    "##### $\\sigma_V=1$"
   ]
  },
  {
   "cell_type": "code",
   "execution_count": 108,
   "metadata": {
    "tags": []
   },
   "outputs": [],
   "source": [
    "sim2_pars=setPar(sigma_V=1,T=5000)\n",
    "baseM_sim2=rateMod_sim_fast(sparse=True,manualSim=True,**sim2_pars)\n",
    "\n",
    "sim2_pars_1k=setPar(sigma_V=1,T=5000,nNeur=1000)\n",
    "baseM_sim2_1k=rateMod_sim_fast(sparse=True,manualSim=True,**sim2_pars_1k)"
   ]
  },
  {
   "cell_type": "code",
   "execution_count": 109,
   "metadata": {
    "tags": []
   },
   "outputs": [
    {
     "name": "stderr",
     "output_type": "stream",
     "text": [
      "0it [00:00, ?it/s]WARNING:root:Skipped over 10 sims due to synchronisation. Continuing in asynchr regime ( for x=0)\n",
      "WARNING:root:High standard error: SEM is 106% of the mean for x=0 (mean_est_sim)\n",
      "WARNING:root:High standard error: SEM is 26% of the mean for x=0 (var_readout_sim)\n",
      "1it [06:56, 416.08s/it]WARNING:root:Skipped over 10 sims due to synchronisation. Continuing in asynchr regime ( for x=1)\n",
      "WARNING:root:High standard error: SEM is 19% of the mean for x=1 (var_readout_sim)\n",
      "2it [13:47, 413.49s/it]WARNING:root:Skipped over 10 sims due to synchronisation. Continuing in asynchr regime ( for x=2)\n",
      "WARNING:root:High standard error: SEM is 13% of the mean for x=2 (var_readout_sim)\n",
      "3it [20:41, 413.82s/it]WARNING:root:Skipped over 10 sims due to synchronisation. Continuing in asynchr regime ( for x=3)\n",
      "4it [27:37, 414.47s/it]WARNING:root:Skipped 3 sims due to synchronisation for x=4\n",
      "6it [36:29, 364.97s/it]"
     ]
    },
    {
     "name": "stdout",
     "output_type": "stream",
     "text": [
      "CPU times: user 36min 17s, sys: 4.71 s, total: 36min 22s\n",
      "Wall time: 36min 29s\n"
     ]
    },
    {
     "name": "stderr",
     "output_type": "stream",
     "text": [
      "\n"
     ]
    }
   ],
   "source": [
    "%%time\n",
    "lif_sim2=av_fcts_over_1Dgrid_lif(funcs_list,'x',x_grid,nSims=15,\n",
    "                     target_dims=func_dims_list,**sim2_pars)"
   ]
  },
  {
   "cell_type": "code",
   "execution_count": 111,
   "metadata": {
    "tags": []
   },
   "outputs": [
    {
     "name": "stderr",
     "output_type": "stream",
     "text": [
      "0it [00:00, ?it/s]WARNING:root:High standard error: SEM is 91% of the mean for x=0 (mean_est_sim)\n",
      "6it [19:39, 196.65s/it]"
     ]
    },
    {
     "name": "stdout",
     "output_type": "stream",
     "text": [
      "CPU times: user 19min 9s, sys: 20.6 s, total: 19min 29s\n",
      "Wall time: 19min 39s\n"
     ]
    },
    {
     "name": "stderr",
     "output_type": "stream",
     "text": [
      "\n"
     ]
    }
   ],
   "source": [
    "%%time\n",
    "lif_sim2_1k=av_fcts_over_1Dgrid_lif(funcs_list,'x',x_grid,nSims=5,\n",
    "                     target_dims=func_dims_list,**sim2_pars_1k)"
   ]
  },
  {
   "cell_type": "code",
   "execution_count": 112,
   "metadata": {
    "tags": []
   },
   "outputs": [
    {
     "name": "stderr",
     "output_type": "stream",
     "text": [
      "0it [00:00, ?it/s]WARNING:root:High standard error: SEM is 81% of the mean for x: 0, tau: 1 (mean_est_sim)\n",
      "WARNING:root:High standard error: SEM is 532% of the mean for x: 0, tau: 5 (mean_est_sim)\n",
      "WARNING:root:High standard error: SEM is 418% of the mean for x: 0, tau: 10 (mean_est_sim)\n",
      "5it [30:03, 360.59s/it]WARNING:root:High standard error: SEM is 4% of the mean for x: 5, tau: 10 (mean_fir_rates)\n",
      "6it [36:04, 360.78s/it]"
     ]
    },
    {
     "name": "stdout",
     "output_type": "stream",
     "text": [
      "CPU times: user 35min 52s, sys: 6.16 s, total: 35min 59s\n",
      "Wall time: 36min 4s\n"
     ]
    },
    {
     "name": "stderr",
     "output_type": "stream",
     "text": [
      "\n"
     ]
    }
   ],
   "source": [
    "%%time\n",
    "res_sim2=av_fct_over_2Dgrid_p(funcs_list,'x',x_grid,'tau',tau_vals,nSims=5,\n",
    "                     target_dims=func_dims_list,\n",
    "                     base_model=baseM_sim2)"
   ]
  },
  {
   "cell_type": "code",
   "execution_count": 113,
   "metadata": {
    "tags": []
   },
   "outputs": [
    {
     "name": "stderr",
     "output_type": "stream",
     "text": [
      "0it [00:00, ?it/s]WARNING:root:High standard error: SEM is 92% of the mean for x: 0, tau: 1 (mean_est_sim)\n",
      "WARNING:root:High standard error: SEM is 161% of the mean for x: 0, tau: 5 (mean_est_sim)\n",
      "WARNING:root:High standard error: SEM is 132% of the mean for x: 0, tau: 10 (mean_est_sim)\n",
      "6it [1:01:07, 611.18s/it]"
     ]
    },
    {
     "name": "stdout",
     "output_type": "stream",
     "text": [
      "CPU times: user 59min 46s, sys: 58.5 s, total: 1h 45s\n",
      "Wall time: 1h 1min 7s\n"
     ]
    },
    {
     "name": "stderr",
     "output_type": "stream",
     "text": [
      "\n"
     ]
    }
   ],
   "source": [
    "%%time\n",
    "res_sim2_1k=av_fct_over_2Dgrid_p(funcs_list,'x',x_grid,'tau',tau_vals,nSims=5,\n",
    "                     target_dims=func_dims_list,\n",
    "                     base_model=baseM_sim2_1k)"
   ]
  },
  {
   "cell_type": "code",
   "execution_count": 116,
   "metadata": {},
   "outputs": [],
   "source": [
    "fr_sim2,       cv_sim2,       mean_sim2,       var_sim2        = res_sim2\n",
    "fr_sim2_1k,    cv_sim2_1k,    mean_sim2_1k,    var_sim2_1k     = res_sim2_1k\n",
    "fr_sim2_lif,   cv_sim2_lif,   mean_sim2_lif,   var_sim2_lif    = lif_sim2\n",
    "fr_sim2_lif_1k,cv_sim2_lif_1k,mean_sim2_lif_1k,var_sim2_lif_1k = lif_sim2_1k"
   ]
  },
  {
   "cell_type": "code",
   "execution_count": 56,
   "metadata": {
    "tags": []
   },
   "outputs": [
    {
     "data": {
      "image/png": "[encoded data removed]",
      "text/plain": [
       "<Figure size 610.236x203.412 with 2 Axes>"
      ]
     },
     "metadata": {},
     "output_type": "display_data"
    }
   ],
   "source": [
    "fig, axs =plt.subplots(1,2,figsize=[full_width,full_width/3])\n",
    "\n",
    "plot_list_lif=[cv_sim2_lif_1k, var_sim2_lif_1k]\n",
    "plot_list_p=[cv_sim2_1k, var_sim2_1k]\n",
    "y_labels=['CV', 'Readout variance']\n",
    "for i, ax in enumerate(axs):\n",
    "    lif_line,=ax.plot(x_grid,plot_list_lif[i],'*',c=col_lif,markersize=8,label='LIF model')\n",
    "    for j, tau in enumerate(tau_vals[::-1]):\n",
    "        j=len(tau_vals)-j-1\n",
    "        _=ax.plot(x_grid,plot_list_p[i][:,j], 'o',markersize=3+j,c=cols_p(0.15+j/5),label=fr'$\\tau_h={tau_vals[j]}$ ms')\n",
    "    ax.set_ylabel(y_labels[i])\n",
    "    ax.set_xlabel(r'Strength of signal  $x$')\n",
    "    ax.set_xticks(x_grid)\n",
    "axs[1].set_ylim(0)\n",
    "plt.tight_layout()\n",
    "#plt.savefig(os.path.join(SAVEFIG_PATH,'pois_vs_lif_sig1'),bbox_inches='tight',dpi=300)   "
   ]
  },
  {
   "cell_type": "markdown",
   "metadata": {},
   "source": [
    "### Dumping results"
   ]
  },
  {
   "cell_type": "code",
   "execution_count": 601,
   "metadata": {},
   "outputs": [],
   "source": [
    "dict_res1={'lif_sim1':lif_sim1,'lif_sim1_1k':lif_sim1_1k,\n",
    "          'lif_sim2':lif_sim2, 'lif_sim2_1k':lif_sim2_1k,\n",
    "    'res_sim1':res_sim1,'res_sim1_1k':res_sim1_1k,'res_sim2':res_sim2,\n",
    " 'res_sim2_1k':res_sim2_1k}"
   ]
  },
  {
   "cell_type": "code",
   "execution_count": 602,
   "metadata": {},
   "outputs": [],
   "source": [
    "#with open('data/res_temp_0210', 'wb') as fp:\n",
    "#    pickle.dump(dict_res1, fp)"
   ]
  },
  {
   "cell_type": "markdown",
   "metadata": {},
   "source": [
    "# Mean-field results"
   ]
  },
  {
   "cell_type": "code",
   "execution_count": 118,
   "metadata": {
    "tags": []
   },
   "outputs": [],
   "source": [
    "N_vals=np.append(100,np.arange(500,5001,500))\n",
    "simN_pars_spec={'sigma_V':0.5,'T':1000}\n",
    "simN_pars=setPar(**simN_pars_spec)"
   ]
  },
  {
   "cell_type": "code",
   "execution_count": 119,
   "metadata": {},
   "outputs": [],
   "source": [
    "spikeM=spikeMod_sim(**setPar(input_fct=lambda t: input_cst(t,1),connStrength=3,sigma_V=0.5))\n",
    "def plt2mean_rels(pc_sim,ax=None):\n",
    "    if ax==None: ax=plt.gca()\n",
    "    mean_q_grid = np.arange(-0.1,0.1,0.001)\n",
    "    first_rel_mean_x= first_mean_rel(pc_sim, mean_q_grid)\n",
    "    second_rel_mean_x = second_mean_rel(pc_sim, mean_q_grid)\n",
    "    ax.plot(mean_q_grid,first_rel_mean_x, 'C1',label='First relation')\n",
    "    ax.plot(mean_q_grid,second_rel_mean_x,'C2', label='Second relation')\n",
    "    ax.hlines(meanw_est_sim(pc_sim),mean_q_grid[0],mean_q_grid[-1],linestyles='--', label='LIF simulation')\n",
    "    ax.set_ylabel(r'$\\langle \\hat x \\rangle$')\n",
    "    ax.set_xlabel(r'$\\langle q \\rangle$')\n",
    "#plt2mean_rels(spikeM)"
   ]
  },
  {
   "cell_type": "code",
   "execution_count": 120,
   "metadata": {},
   "outputs": [],
   "source": [
    "def plt_mf_means(x_grid,mean_sims,means_anal,ax=None):\n",
    "    if ax==None: ax=plt.gca()\n",
    "    ax.plot(x_grid,x_grid,'k--', label='True signal x')\n",
    "    ax.plot(x_grid,means_anal, 'orange', label='Analytical prediction')\n",
    "    ax.plot(x_grid,mean_sims,'b*',markersize=5, label='Simulation results')\n",
    "    ax.set_ylabel(r'$\\langle \\hat x \\rangle$')\n",
    "    ax.set_xlabel(r'$x$')\n",
    "#plt_mf_means(x_grid,mean_sim1_lif_1k,res_means_anal)"
   ]
  },
  {
   "cell_type": "code",
   "execution_count": 121,
   "metadata": {},
   "outputs": [],
   "source": [
    "res_means_anal=np.zeros(x_grid.size)\n",
    "for i,s in enumerate(x_grid/20):\n",
    "    res_means_anal[i]=calc_mf_means(baseM_sim1_1k,s)[0]"
   ]
  },
  {
   "cell_type": "code",
   "execution_count": 122,
   "metadata": {},
   "outputs": [
    {
     "name": "stderr",
     "output_type": "stream",
     "text": [
      "0it [00:00, ?it/s]WARNING:root:High standard error: SEM is 5% of the mean for nNeur=100 (mean_fir_rates)\n",
      "11it [4:56:01, 1614.68s/it]"
     ]
    },
    {
     "name": "stdout",
     "output_type": "stream",
     "text": [
      "CPU times: user 1h 29min 32s, sys: 3min 1s, total: 1h 32min 33s\n",
      "Wall time: 4h 56min 1s\n"
     ]
    },
    {
     "name": "stderr",
     "output_type": "stream",
     "text": [
      "\n"
     ]
    }
   ],
   "source": [
    "%%time\n",
    "lif_simN=av_fcts_over_1Dgrid_lif(funcs_list,'nNeur',N_vals,nSims=20,\n",
    "                     target_dims=func_dims_list,**simN_pars)"
   ]
  },
  {
   "cell_type": "code",
   "execution_count": 123,
   "metadata": {},
   "outputs": [
    {
     "name": "stderr",
     "output_type": "stream",
     "text": [
      "11it [2:35:04, 845.82s/it] \n"
     ]
    }
   ],
   "source": [
    "p_simN=av_fct_over_2Dgrid_p(funcs_list,'nNeur',N_vals,'tau',tau_vals,nSims=20,\n",
    "                     target_dims=func_dims_list,**simN_pars)"
   ]
  },
  {
   "cell_type": "code",
   "execution_count": 128,
   "metadata": {},
   "outputs": [
    {
     "name": "stdout",
     "output_type": "stream",
     "text": [
      "CPU times: user 13.1 s, sys: 217 ms, total: 13.3 s\n",
      "Wall time: 13.5 s\n"
     ]
    }
   ],
   "source": [
    "%%time\n",
    "N_grid=np.arange(100,5000)\n",
    "meansN_anal=np.zeros(N_grid.size)\n",
    "for i,N in enumerate(N_grid):\n",
    "    sim_i=gen_model(**setPar(nNeur=N,**simN_pars_spec))\n",
    "    meansN_anal[i]=calc_mf_means(sim_i)[0]    "
   ]
  },
  {
   "cell_type": "code",
   "execution_count": 129,
   "metadata": {},
   "outputs": [],
   "source": [
    "fr_simN_lif,   cv_simN_lif,   mean_simN_lif,   var_simN_lif    = lif_simN\n",
    "fr_simN_p,   cv_simN_p,   mean_simN_p,   var_simN_p    = p_simN"
   ]
  },
  {
   "cell_type": "code",
   "execution_count": 89,
   "metadata": {
    "tags": []
   },
   "outputs": [],
   "source": [
    "def pltMeansN(N_grid,meansN_anal,mean_simN_p,N_vals,mean_simN,ax=None):\n",
    "    if ax==None: ax=plt.gca()\n",
    "    ax.plot(N_grid,meansN_anal,'orange',label='Theory')\n",
    "    ax.plot(N_vals,mean_simN_p[:,1],'C1o',markersize=3,label='Poisson simulation')\n",
    "    ax.plot(N_vals,mean_simN_lif,'b*',markersize=5, label='LIF simulation')\n",
    "    ax.set_xticks(N_vals[::2])\n",
    "    ax.set_xlabel('Network size N')\n",
    "    ax.set_ylabel(r'$\\langle \\hat x \\rangle$')\n",
    "#pltMeansN(N_grid,meansN_anal,mean_simN_p,N_vals,mean_simN_lif)"
   ]
  },
  {
   "cell_type": "code",
   "execution_count": 63,
   "metadata": {},
   "outputs": [
    {
     "data": {
      "text/plain": [
       "array([0.86026395])"
      ]
     },
     "execution_count": 63,
     "metadata": {},
     "output_type": "execute_result"
    }
   ],
   "source": [
    "sim_i=gen_model(**setPar(nNeur=100,**simN_pars_spec))\n",
    "calc_mf_means(sim_i)[0]   "
   ]
  },
  {
   "cell_type": "code",
   "execution_count": 90,
   "metadata": {},
   "outputs": [
    {
     "data": {
      "text/plain": [
       "<matplotlib.legend.Legend at 0x7fce908a70d0>"
      ]
     },
     "execution_count": 90,
     "metadata": {},
     "output_type": "execute_result"
    },
    {
     "data": {
      "image/png": "[encoded data removed]",
      "text/plain": [
       "<Figure size 610.236x406.824 with 3 Axes>"
      ]
     },
     "metadata": {},
     "output_type": "display_data"
    }
   ],
   "source": [
    "fig = plt.figure(constrained_layout=True)\n",
    "gs = gridspec.GridSpec(ncols=2, nrows=2, figure=fig)\n",
    "ax=fig.add_subplot(gs[0,0])\n",
    "plt2mean_rels(spikeM)\n",
    "ax.legend(fontsize=9)\n",
    "ax=fig.add_subplot(gs[0,1])\n",
    "plt_mf_means(x_grid,mean_sim1_lif_1k,res_means_anal)\n",
    "ax = fig.add_subplot(gs[1,:])\n",
    "pltMeansN(N_grid,meansN_anal,mean_simN_p,N_vals,mean_simN_lif,ax)\n",
    "ax.legend()\n",
    "#plt.savefig(os.path.join(SAVEFIG_PATH,'means_mf'),bbox_inches='tight',dpi=300)   "
   ]
  },
  {
   "cell_type": "code",
   "execution_count": 484,
   "metadata": {},
   "outputs": [],
   "source": [
    "dict_res2={'lif_simN':lif_simN,'p_simN':p_simN}"
   ]
  },
  {
   "cell_type": "code",
   "execution_count": 485,
   "metadata": {},
   "outputs": [],
   "source": [
    "#with open('data/res_mf_means_2509', 'wb') as fp:\n",
    "#    pickle.dump(dict_res2, fp)"
   ]
  },
  {
   "cell_type": "markdown",
   "metadata": {},
   "source": [
    "## MF variance"
   ]
  },
  {
   "cell_type": "markdown",
   "metadata": {},
   "source": [
    "### recompute variance with more precision"
   ]
  },
  {
   "cell_type": "code",
   "execution_count": 6,
   "metadata": {},
   "outputs": [],
   "source": [
    "sim3_pars=setPar(sigma_V=1.5,T=1000)\n",
    "baseM_sim3=rateMod_sim_fast(sparse=True,manualSim=True,**sim3_pars)\n",
    "\n",
    "sim3_pars_1k=setPar(sigma_V=1.5,T=1000,nNeur=1000)\n",
    "baseM_sim3_1k=rateMod_sim_fast(sparse=True,manualSim=True,**sim3_pars_1k)"
   ]
  },
  {
   "cell_type": "code",
   "execution_count": 139,
   "metadata": {},
   "outputs": [
    {
     "name": "stderr",
     "output_type": "stream",
     "text": [
      "0it [00:00, ?it/s]WARNING:root:Skipped over 10 sims due to synchronisation. Continuing in asynchr regime ( for x=0)\n",
      "WARNING:root:High standard error: SEM is 8% of the mean for x=0\n",
      "1it [03:11, 191.95s/it]WARNING:root:Skipped over 10 sims due to synchronisation. Continuing in asynchr regime ( for x=1)\n",
      "WARNING:root:High standard error: SEM is 6% of the mean for x=1\n",
      "2it [06:24, 192.02s/it]WARNING:root:Skipped over 10 sims due to synchronisation. Continuing in asynchr regime ( for x=2)\n",
      "WARNING:root:High standard error: SEM is 5% of the mean for x=2\n",
      "3it [09:36, 192.40s/it]WARNING:root:Skipped over 10 sims due to synchronisation. Continuing in asynchr regime ( for x=3)\n",
      "4it [12:48, 192.23s/it]WARNING:root:Skipped 10 sims due to synchronisation for x=4\n",
      "5it [15:57, 190.94s/it]WARNING:root:Skipped 4 sims due to synchronisation for x=5\n",
      "6it [18:47, 187.93s/it]\n"
     ]
    }
   ],
   "source": [
    "lif_var3=av_fcts_over_1Dgrid_lif(var_readout_sim,'x',x_grid,nSims=50,\n",
    "                     sigma_V=1.5,T=1000)"
   ]
  },
  {
   "cell_type": "code",
   "execution_count": 140,
   "metadata": {
    "tags": []
   },
   "outputs": [
    {
     "name": "stderr",
     "output_type": "stream",
     "text": [
      "6it [18:55, 189.25s/it]"
     ]
    },
    {
     "name": "stdout",
     "output_type": "stream",
     "text": [
      "CPU times: user 18min 51s, sys: 2.04 s, total: 18min 53s\n",
      "Wall time: 18min 55s\n"
     ]
    },
    {
     "name": "stderr",
     "output_type": "stream",
     "text": [
      "\n"
     ]
    }
   ],
   "source": [
    "%%time\n",
    "lif_var3_1k=av_fcts_over_1Dgrid_lif(var_readout_sim,'x',x_grid,nSims=25,\n",
    "                     sigma_V=1.5,nNeur=1000,T=1000)"
   ]
  },
  {
   "cell_type": "code",
   "execution_count": 7,
   "metadata": {},
   "outputs": [
    {
     "name": "stderr",
     "output_type": "stream",
     "text": [
      "6it [36:17, 362.90s/it]"
     ]
    },
    {
     "name": "stdout",
     "output_type": "stream",
     "text": [
      "CPU times: user 35min 47s, sys: 2.97 s, total: 35min 50s\n",
      "Wall time: 36min 17s\n"
     ]
    },
    {
     "name": "stderr",
     "output_type": "stream",
     "text": [
      "\n"
     ]
    }
   ],
   "source": [
    "%%time\n",
    "var3=av_fct_over_2Dgrid_p(var_readout_sim,'x',x_grid,'tau',tau_vals,nSims=25,\n",
    "                     base_model=baseM_sim3)"
   ]
  },
  {
   "cell_type": "code",
   "execution_count": 8,
   "metadata": {},
   "outputs": [
    {
     "name": "stderr",
     "output_type": "stream",
     "text": [
      "6it [58:59, 589.94s/it]"
     ]
    },
    {
     "name": "stdout",
     "output_type": "stream",
     "text": [
      "CPU times: user 58min 45s, sys: 4.25 s, total: 58min 49s\n",
      "Wall time: 58min 59s\n"
     ]
    },
    {
     "name": "stderr",
     "output_type": "stream",
     "text": [
      "\n"
     ]
    }
   ],
   "source": [
    "%%time\n",
    "var3_1k=av_fct_over_2Dgrid_p(var_readout_sim,'x',x_grid,'tau',tau_vals,nSims=25,\n",
    "                     base_model=baseM_sim3_1k)"
   ]
  },
  {
   "cell_type": "code",
   "execution_count": 142,
   "metadata": {},
   "outputs": [],
   "source": [
    "dict_res_var3={'var3':var3,'var3_1k':var3_1k,'lif_var3':lif_var3,\n",
    "              'lif_var3_1k':lif_var3_1k,}\n",
    "#with open('data/res_var3_2609', 'wb') as fp:\n",
    "#    pickle.dump(dict_res_var3, fp)"
   ]
  }
 ],
 "metadata": {
  "kernelspec": {
   "display_name": "maEnv",
   "language": "python",
   "name": "maenv"
  },
  "language_info": {
   "codemirror_mode": {
    "name": "ipython",
    "version": 3
   },
   "file_extension": ".py",
   "mimetype": "text/x-python",
   "name": "python",
   "nbconvert_exporter": "python",
   "pygments_lexer": "ipython3",
   "version": "3.9.5"
  },
  "toc-autonumbering": true
 },
 "nbformat": 4,
 "nbformat_minor": 4
}
